{
  "nbformat": 4,
  "nbformat_minor": 0,
  "metadata": {
    "colab": {
      "provenance": []
    },
    "kernelspec": {
      "name": "python3",
      "display_name": "Python 3"
    },
    "language_info": {
      "name": "python"
    }
  },
  "cells": [
    {
      "cell_type": "code",
      "execution_count": 30,
      "metadata": {
        "id": "ebut984NkB7U"
      },
      "outputs": [],
      "source": [
        "def ordem_de_listas(lista: list):\n",
        "    palavras_ordenadas = sorted(lista, key=len)\n",
        "    print(palavras_ordenadas)"
      ]
    },
    {
      "cell_type": "code",
      "source": [
        "lista = [\"banana\", \"maçã\", \"abacaxi\", \"uva\"]\n",
        "\n",
        "lista_ordenada = ordem_de_listas(lista)\n"
      ],
      "metadata": {
        "colab": {
          "base_uri": "https://localhost:8080/"
        },
        "id": "wlJJhRcRknX3",
        "outputId": "192b919e-5161-45e3-e3c5-d47418a44503"
      },
      "execution_count": 31,
      "outputs": [
        {
          "output_type": "stream",
          "name": "stdout",
          "text": [
            "['uva', 'maçã', 'banana', 'abacaxi']\n"
          ]
        }
      ]
    }
  ]
}